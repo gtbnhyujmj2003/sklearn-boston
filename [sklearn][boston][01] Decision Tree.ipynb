{
 "cells": [
  {
   "cell_type": "code",
   "execution_count": 1,
   "metadata": {},
   "outputs": [],
   "source": [
    "# 讀取資料 (以boston為例) - Regression\n",
    "\n",
    "from sklearn.datasets import load_boston\n",
    "\n",
    "boston = load_boston()\n",
    "# boston"
   ]
  },
  {
   "cell_type": "code",
   "execution_count": 2,
   "metadata": {},
   "outputs": [],
   "source": [
    "# 用胖達(Pandas)畫表格\n",
    "\n",
    "import pandas as pd\n",
    "\n",
    "# [0] = 資料陣列 = x軸\n",
    "# [1] = 標題列 = x軸的標題\n",
    "\n",
    "df = pd.DataFrame(boston[\"data\"], columns = boston[\"feature_names\"])\n",
    "\n",
    "# 添加最尾 直列  = 預測目標 (target)\n",
    "\n",
    "df[\"ans\"] = boston[\"target\"]\n",
    "\n",
    "# 存檔成csv\n",
    "df.to_csv(\"boston.csv\", encoding = \"UTF8\", index = False)\n",
    "\n",
    "# df"
   ]
  },
  {
   "cell_type": "code",
   "execution_count": 3,
   "metadata": {},
   "outputs": [],
   "source": [
    "from sklearn.model_selection import train_test_split\n",
    "\n",
    "# 抽選原始資料 > 形成 訓練資料 跟 驗證資料\n",
    "# 直接從原始資料抽，而非df。 (ref.iris)\n",
    "\n",
    "x_train, x_test, y_train, y_test = train_test_split(boston[\"data\"],\n",
    "                                                    boston[\"target\"],\n",
    "                                                    test_size = 0.1)\n",
    "# a = 訓練的90% = x_train\n",
    "# b = 訓練的10% = x_test\n",
    "# c = 驗證的90% = y_train\n",
    "# d = 驗證的10% = y_test"
   ]
  },
  {
   "cell_type": "code",
   "execution_count": 4,
   "metadata": {},
   "outputs": [
    {
     "data": {
      "text/plain": [
       "DecisionTreeRegressor(ccp_alpha=0.0, criterion='mse', max_depth=5,\n",
       "                      max_features=None, max_leaf_nodes=None,\n",
       "                      min_impurity_decrease=0.0, min_impurity_split=None,\n",
       "                      min_samples_leaf=1, min_samples_split=2,\n",
       "                      min_weight_fraction_leaf=0.0, presort='deprecated',\n",
       "                      random_state=None, splitter='best')"
      ]
     },
     "execution_count": 4,
     "metadata": {},
     "output_type": "execute_result"
    }
   ],
   "source": [
    "# 讓決策樹(回歸樹)學習\n",
    "# max_depth = 控制樹的深度 \n",
    "\n",
    "from sklearn.tree import DecisionTreeRegressor\n",
    "reg = DecisionTreeRegressor(max_depth = 5)\n",
    "\n",
    "# 擬合: fit\n",
    "# (a: c) = 90% : 90%\n",
    "\n",
    "reg.fit(x_train, y_train)"
   ]
  },
  {
   "cell_type": "code",
   "execution_count": 5,
   "metadata": {},
   "outputs": [],
   "source": [
    "# 看樹\n",
    "\n",
    "import graphviz\n",
    "from sklearn.tree import export_graphviz\n",
    "\n",
    "# out_file = 要不要輸出檔案\n",
    "# feature_names = 標題列\n",
    "# class_names = 目標的名子\n",
    "# filled = 樹要不要填顏色\n",
    "# special_characters = 有些特殊物要不要顯示\n",
    "\n",
    "g = export_graphviz(reg, feature_names = boston[\"feature_names\"], filled = True,\n",
    "                    max_depth = 3)\n",
    "\n",
    "# graphviz.Source(g)"
   ]
  },
  {
   "cell_type": "code",
   "execution_count": 6,
   "metadata": {},
   "outputs": [
    {
     "name": "stdout",
     "output_type": "stream",
     "text": [
      "機器學習後的結果: [20.9, 13.9, 28.4, 15.3, 50.0, 15.5, 20.9, 20.9, 15.3, 20.3, 24.0, 15.3, 20.9, 15.3, 24.0, 20.9, 15.3, 20.9, 20.9, 15.3, 18.6, 30.7, 20.9, 20.9, 15.3, 20.9, 15.5, 28.4, 30.7, 24.0, 28.4, 50.0, 20.9, 10.0, 30.7, 34.8, 15.3, 10.0, 20.9, 30.7, 34.8, 10.0, 20.9, 13.9, 15.3, 24.0, 28.4, 20.9, 15.3, 50.0, 18.6]\n",
      "現實中真正的結果: [19.5, 13.5, 28.4, 15.6, 50.0, 19.1, 26.4, 28.1, 14.9, 23.7, 24.8, 14.3, 19.3, 21.7, 22.3, 20.9, 17.8, 23.9, 20.5, 17.0, 23.1, 36.4, 21.8, 22.8, 19.4, 20.8, 13.8, 31.6, 26.7, 23.2, 26.6, 50.0, 20.3, 12.3, 32.9, 36.2, 12.7, 5.0, 22.9, 37.0, 33.4, 10.5, 19.3, 15.4, 14.0, 23.7, 24.1, 20.7, 18.4, 50.0, 27.1]\n"
     ]
    }
   ],
   "source": [
    "# 拿 10%驗證資料 去驗證 (x_test)\n",
    "# 以(a, c)擬合後，資料驗證用 b\n",
    "\n",
    "import numpy as np\n",
    "\n",
    "pre = reg.predict(x_test)\n",
    "pre = np.around(pre, decimals=1)\n",
    "print(\"機器學習後的結果:\", list(pre))\n",
    "\n",
    "# 現實資料裡真正的結果\n",
    "print(\"現實中真正的結果:\", list(y_test))"
   ]
  },
  {
   "cell_type": "code",
   "execution_count": 7,
   "metadata": {},
   "outputs": [
    {
     "name": "stdout",
     "output_type": "stream",
     "text": [
      "r2 score: 0.89\n"
     ]
    }
   ],
   "source": [
    "# 算 r2 score\n",
    "# 要先放 (y_test) 在放 pre\n",
    "\n",
    "from sklearn.metrics import r2_score\n",
    "\n",
    "score = r2_score(y_test, pre)\n",
    "print(\"r2 score:\", round(score, 2))"
   ]
  }
 ],
 "metadata": {
  "kernelspec": {
   "display_name": "Python 3",
   "language": "python",
   "name": "python3"
  },
  "language_info": {
   "codemirror_mode": {
    "name": "ipython",
    "version": 3
   },
   "file_extension": ".py",
   "mimetype": "text/x-python",
   "name": "python",
   "nbconvert_exporter": "python",
   "pygments_lexer": "ipython3",
   "version": "3.7.7"
  }
 },
 "nbformat": 4,
 "nbformat_minor": 4
}
